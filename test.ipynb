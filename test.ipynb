{
 "cells": [
  {
   "cell_type": "markdown",
   "id": "d7fa606b-75dc-4512-b4d7-060180386631",
   "metadata": {},
   "source": [
    "В ячейках Markdown можно использовать:\n",
    "* разметка Markdown [Ссылка на документацию](https://gist.github.com/Jekins/2bf2d0638163f1294637)\n",
    "* html - разметка\n",
    "* LaTeX для формул"
   ]
  },
  {
   "cell_type": "markdown",
   "id": "7bd4ff4c-135c-44aa-b46b-1434980d17ce",
   "metadata": {},
   "source": [
    "<table border 1 зч>\n",
    "    <tr>\n",
    "        <th>Заголовок 1</th>\n",
    "        <th>Заголовок 2</th>\n",
    "    </tr>\n",
    "    <tr>\n",
    "        <td>Ячейка 1.1</td>\n",
    "        <td>Ячейка 2.1</td>\n",
    "    </tr>\n",
    "    <tr>\n",
    "        <td>Ячейка 1.2</td>\n",
    "        <td>Ячейка 2.2</td>\n",
    "    </tr>\n",
    "</table>"
   ]
  },
  {
   "cell_type": "code",
   "execution_count": 1,
   "id": "56e2220d-0fdf-4a06-ad16-9c9644b543dd",
   "metadata": {},
   "outputs": [],
   "source": [
    "a=1\n"
   ]
  },
  {
   "cell_type": "code",
   "execution_count": 2,
   "id": "3a24daf2-c4ab-42e0-9aac-b3422c0e51de",
   "metadata": {},
   "outputs": [
    {
     "data": {
      "text/plain": [
       "3"
      ]
     },
     "execution_count": 2,
     "metadata": {},
     "output_type": "execute_result"
    }
   ],
   "source": [
    "a + a + 1"
   ]
  },
  {
   "cell_type": "code",
   "execution_count": 3,
   "id": "6f62289e-71cb-4b8a-85f4-a3443f306279",
   "metadata": {},
   "outputs": [],
   "source": [
    "a = 3 + 7"
   ]
  },
  {
   "cell_type": "code",
   "execution_count": 4,
   "id": "e0f7de83-adbb-4a27-b580-45f82458d38f",
   "metadata": {},
   "outputs": [
    {
     "data": {
      "text/plain": [
       "'C:\\\\Users\\\\andrey.viderker\\\\PycharmProjects\\\\test'"
      ]
     },
     "execution_count": 4,
     "metadata": {},
     "output_type": "execute_result"
    }
   ],
   "source": [
    "%pwd"
   ]
  },
  {
   "cell_type": "code",
   "execution_count": null,
   "id": "ac545efa-649a-4879-a42c-0884d21fd923",
   "metadata": {},
   "outputs": [],
   "source": []
  }
 ],
 "metadata": {
  "kernelspec": {
   "display_name": "Python 3 (ipykernel)",
   "language": "python",
   "name": "python3"
  },
  "language_info": {
   "codemirror_mode": {
    "name": "ipython",
    "version": 3
   },
   "file_extension": ".py",
   "mimetype": "text/x-python",
   "name": "python",
   "nbconvert_exporter": "python",
   "pygments_lexer": "ipython3",
   "version": "3.12.0"
  }
 },
 "nbformat": 4,
 "nbformat_minor": 5
}
